{
  "nbformat": 4,
  "nbformat_minor": 0,
  "metadata": {
    "kernelspec": {
      "display_name": "Python 3",
      "language": "python",
      "name": "python3"
    },
    "language_info": {
      "codemirror_mode": {
        "name": "ipython",
        "version": 3
      },
      "file_extension": ".py",
      "mimetype": "text/x-python",
      "name": "python",
      "nbconvert_exporter": "python",
      "pygments_lexer": "ipython3",
      "version": "3.6.5"
    },
    "colab": {
      "name": "KMeans Clustering Implementation - Customer Spend (2).ipynb",
      "provenance": [],
      "include_colab_link": true
    }
  },
  "cells": [
    {
      "cell_type": "markdown",
      "metadata": {
        "id": "view-in-github",
        "colab_type": "text"
      },
      "source": [
        "<a href=\"https://colab.research.google.com/github/prasadshedge/LEARNBAY-DATA-SCIENCE-/blob/main/KMeans_Clustering_Implementation_Customer_Spend_(2).ipynb\" target=\"_parent\"><img src=\"https://colab.research.google.com/assets/colab-badge.svg\" alt=\"Open In Colab\"/></a>"
      ]
    },
    {
      "cell_type": "markdown",
      "metadata": {
        "id": "uK2fwqlblily"
      },
      "source": [
        "# K Means Clustering"
      ]
    },
    {
      "cell_type": "markdown",
      "metadata": {
        "id": "kElZD8CRlimK"
      },
      "source": [
        "## Import Libraries & DataSets"
      ]
    },
    {
      "cell_type": "code",
      "metadata": {
        "id": "EPmo6w4ilimO"
      },
      "source": [
        "import matplotlib.pyplot as plt  \n",
        "import pandas as pd  \n",
        "%matplotlib inline \n",
        "import numpy as np  "
      ],
      "execution_count": null,
      "outputs": []
    },
    {
      "cell_type": "code",
      "metadata": {
        "id": "6CSLgkN3limR"
      },
      "source": [
        "customer_data = pd.read_csv('C:/Users/aksin52/Documents/Learnbay Stats ML Curriculum/Cust_Spend_Data.csv')"
      ],
      "execution_count": null,
      "outputs": []
    },
    {
      "cell_type": "code",
      "metadata": {
        "id": "zKS48oD_limT",
        "outputId": "c20bd214-b457-479e-a46a-84e13b75a313"
      },
      "source": [
        "customer_data.shape  "
      ],
      "execution_count": null,
      "outputs": [
        {
          "output_type": "execute_result",
          "data": {
            "text/plain": [
              "(10, 7)"
            ]
          },
          "metadata": {
            "tags": []
          },
          "execution_count": 30
        }
      ]
    },
    {
      "cell_type": "code",
      "metadata": {
        "scrolled": false,
        "id": "GSppLEQElimY",
        "outputId": "6581ec35-3734-49e4-ff83-c800b2a4133e"
      },
      "source": [
        "customer_data.head()"
      ],
      "execution_count": null,
      "outputs": [
        {
          "output_type": "execute_result",
          "data": {
            "text/html": [
              "<div>\n",
              "<style scoped>\n",
              "    .dataframe tbody tr th:only-of-type {\n",
              "        vertical-align: middle;\n",
              "    }\n",
              "\n",
              "    .dataframe tbody tr th {\n",
              "        vertical-align: top;\n",
              "    }\n",
              "\n",
              "    .dataframe thead th {\n",
              "        text-align: right;\n",
              "    }\n",
              "</style>\n",
              "<table border=\"1\" class=\"dataframe\">\n",
              "  <thead>\n",
              "    <tr style=\"text-align: right;\">\n",
              "      <th></th>\n",
              "      <th>Cust_ID</th>\n",
              "      <th>Name</th>\n",
              "      <th>Avg_Mthly_Spend</th>\n",
              "      <th>No_Of_Visits</th>\n",
              "      <th>Apparel_Items</th>\n",
              "      <th>FnV_Items</th>\n",
              "      <th>Staples_Items</th>\n",
              "    </tr>\n",
              "  </thead>\n",
              "  <tbody>\n",
              "    <tr>\n",
              "      <th>0</th>\n",
              "      <td>1</td>\n",
              "      <td>A</td>\n",
              "      <td>10000</td>\n",
              "      <td>2</td>\n",
              "      <td>1</td>\n",
              "      <td>1</td>\n",
              "      <td>0</td>\n",
              "    </tr>\n",
              "    <tr>\n",
              "      <th>1</th>\n",
              "      <td>2</td>\n",
              "      <td>B</td>\n",
              "      <td>7000</td>\n",
              "      <td>3</td>\n",
              "      <td>0</td>\n",
              "      <td>10</td>\n",
              "      <td>9</td>\n",
              "    </tr>\n",
              "    <tr>\n",
              "      <th>2</th>\n",
              "      <td>3</td>\n",
              "      <td>C</td>\n",
              "      <td>7000</td>\n",
              "      <td>7</td>\n",
              "      <td>1</td>\n",
              "      <td>3</td>\n",
              "      <td>4</td>\n",
              "    </tr>\n",
              "    <tr>\n",
              "      <th>3</th>\n",
              "      <td>4</td>\n",
              "      <td>D</td>\n",
              "      <td>6500</td>\n",
              "      <td>5</td>\n",
              "      <td>1</td>\n",
              "      <td>1</td>\n",
              "      <td>4</td>\n",
              "    </tr>\n",
              "    <tr>\n",
              "      <th>4</th>\n",
              "      <td>5</td>\n",
              "      <td>E</td>\n",
              "      <td>6000</td>\n",
              "      <td>6</td>\n",
              "      <td>0</td>\n",
              "      <td>12</td>\n",
              "      <td>3</td>\n",
              "    </tr>\n",
              "  </tbody>\n",
              "</table>\n",
              "</div>"
            ],
            "text/plain": [
              "   Cust_ID Name  Avg_Mthly_Spend  No_Of_Visits  Apparel_Items  FnV_Items  \\\n",
              "0        1    A            10000             2              1          1   \n",
              "1        2    B             7000             3              0         10   \n",
              "2        3    C             7000             7              1          3   \n",
              "3        4    D             6500             5              1          1   \n",
              "4        5    E             6000             6              0         12   \n",
              "\n",
              "   Staples_Items  \n",
              "0              0  \n",
              "1              9  \n",
              "2              4  \n",
              "3              4  \n",
              "4              3  "
            ]
          },
          "metadata": {
            "tags": []
          },
          "execution_count": 31
        }
      ]
    },
    {
      "cell_type": "code",
      "metadata": {
        "id": "oJDa4efWlima",
        "outputId": "b0a04ebe-9ac3-41c5-90c1-7bc944c084bf"
      },
      "source": [
        "customer_data.dtypes"
      ],
      "execution_count": null,
      "outputs": [
        {
          "output_type": "execute_result",
          "data": {
            "text/plain": [
              "Cust_ID             int64\n",
              "Name               object\n",
              "Avg_Mthly_Spend     int64\n",
              "No_Of_Visits        int64\n",
              "Apparel_Items       int64\n",
              "FnV_Items           int64\n",
              "Staples_Items       int64\n",
              "dtype: object"
            ]
          },
          "metadata": {
            "tags": []
          },
          "execution_count": 32
        }
      ]
    },
    {
      "cell_type": "code",
      "metadata": {
        "id": "W54iJPgFlimb"
      },
      "source": [
        "features=['Avg_Mthly_Spend','No_Of_Visits','Apparel_Items','FnV_Items','Staples_Items']\n",
        "X=customer_data[features]"
      ],
      "execution_count": null,
      "outputs": []
    },
    {
      "cell_type": "markdown",
      "metadata": {
        "id": "cGwv4gxClimd"
      },
      "source": [
        "# Feature Scaling for Clustering"
      ]
    },
    {
      "cell_type": "code",
      "metadata": {
        "id": "ESIkS99Ulimf"
      },
      "source": [
        "from sklearn.preprocessing import StandardScaler\n",
        "stdsc=StandardScaler()\n",
        "X_data=pd.DataFrame(stdsc.fit_transform(X),index=X.index,columns=X.columns).add_suffix('_std')"
      ],
      "execution_count": null,
      "outputs": []
    },
    {
      "cell_type": "code",
      "metadata": {
        "id": "FBsGSF7Llimg",
        "outputId": "71418de7-332b-4f7a-ae68-5501186e09d2"
      },
      "source": [
        "X_data.describe()"
      ],
      "execution_count": null,
      "outputs": [
        {
          "output_type": "execute_result",
          "data": {
            "text/html": [
              "<div>\n",
              "<style scoped>\n",
              "    .dataframe tbody tr th:only-of-type {\n",
              "        vertical-align: middle;\n",
              "    }\n",
              "\n",
              "    .dataframe tbody tr th {\n",
              "        vertical-align: top;\n",
              "    }\n",
              "\n",
              "    .dataframe thead th {\n",
              "        text-align: right;\n",
              "    }\n",
              "</style>\n",
              "<table border=\"1\" class=\"dataframe\">\n",
              "  <thead>\n",
              "    <tr style=\"text-align: right;\">\n",
              "      <th></th>\n",
              "      <th>Avg_Mthly_Spend_std</th>\n",
              "      <th>No_Of_Visits_std</th>\n",
              "      <th>Apparel_Items_std</th>\n",
              "      <th>FnV_Items_std</th>\n",
              "      <th>Staples_Items_std</th>\n",
              "    </tr>\n",
              "  </thead>\n",
              "  <tbody>\n",
              "    <tr>\n",
              "      <th>count</th>\n",
              "      <td>10.000000</td>\n",
              "      <td>1.000000e+01</td>\n",
              "      <td>1.000000e+01</td>\n",
              "      <td>1.000000e+01</td>\n",
              "      <td>10.000000</td>\n",
              "    </tr>\n",
              "    <tr>\n",
              "      <th>mean</th>\n",
              "      <td>0.000000</td>\n",
              "      <td>2.220446e-17</td>\n",
              "      <td>-6.661338e-17</td>\n",
              "      <td>4.440892e-17</td>\n",
              "      <td>0.000000</td>\n",
              "    </tr>\n",
              "    <tr>\n",
              "      <th>std</th>\n",
              "      <td>1.054093</td>\n",
              "      <td>1.054093e+00</td>\n",
              "      <td>1.054093e+00</td>\n",
              "      <td>1.054093e+00</td>\n",
              "      <td>1.054093</td>\n",
              "    </tr>\n",
              "    <tr>\n",
              "      <th>min</th>\n",
              "      <td>-1.410294</td>\n",
              "      <td>-1.240347e+00</td>\n",
              "      <td>-6.546537e-01</td>\n",
              "      <td>-7.414326e-01</td>\n",
              "      <td>-1.380131</td>\n",
              "    </tr>\n",
              "    <tr>\n",
              "      <th>25%</th>\n",
              "      <td>-0.860829</td>\n",
              "      <td>-6.201737e-01</td>\n",
              "      <td>-6.546537e-01</td>\n",
              "      <td>-7.414326e-01</td>\n",
              "      <td>-0.690066</td>\n",
              "    </tr>\n",
              "    <tr>\n",
              "      <th>50%</th>\n",
              "      <td>0.054947</td>\n",
              "      <td>-3.100868e-01</td>\n",
              "      <td>-6.546537e-01</td>\n",
              "      <td>-6.290944e-01</td>\n",
              "      <td>-0.172516</td>\n",
              "    </tr>\n",
              "    <tr>\n",
              "      <th>75%</th>\n",
              "      <td>0.741778</td>\n",
              "      <td>6.201737e-01</td>\n",
              "      <td>9.819805e-01</td>\n",
              "      <td>8.874724e-01</td>\n",
              "      <td>0.776324</td>\n",
              "    </tr>\n",
              "    <tr>\n",
              "      <th>max</th>\n",
              "      <td>1.886498</td>\n",
              "      <td>1.860521e+00</td>\n",
              "      <td>1.527525e+00</td>\n",
              "      <td>1.730009e+00</td>\n",
              "      <td>1.725164</td>\n",
              "    </tr>\n",
              "  </tbody>\n",
              "</table>\n",
              "</div>"
            ],
            "text/plain": [
              "       Avg_Mthly_Spend_std  No_Of_Visits_std  Apparel_Items_std  \\\n",
              "count            10.000000      1.000000e+01       1.000000e+01   \n",
              "mean              0.000000      2.220446e-17      -6.661338e-17   \n",
              "std               1.054093      1.054093e+00       1.054093e+00   \n",
              "min              -1.410294     -1.240347e+00      -6.546537e-01   \n",
              "25%              -0.860829     -6.201737e-01      -6.546537e-01   \n",
              "50%               0.054947     -3.100868e-01      -6.546537e-01   \n",
              "75%               0.741778      6.201737e-01       9.819805e-01   \n",
              "max               1.886498      1.860521e+00       1.527525e+00   \n",
              "\n",
              "       FnV_Items_std  Staples_Items_std  \n",
              "count   1.000000e+01          10.000000  \n",
              "mean    4.440892e-17           0.000000  \n",
              "std     1.054093e+00           1.054093  \n",
              "min    -7.414326e-01          -1.380131  \n",
              "25%    -7.414326e-01          -0.690066  \n",
              "50%    -6.290944e-01          -0.172516  \n",
              "75%     8.874724e-01           0.776324  \n",
              "max     1.730009e+00           1.725164  "
            ]
          },
          "metadata": {
            "tags": []
          },
          "execution_count": 35
        }
      ]
    },
    {
      "cell_type": "code",
      "metadata": {
        "scrolled": false,
        "id": "FUF_JdlXlimi",
        "outputId": "5c52f442-4dfe-49ed-a994-0d643fc73d26"
      },
      "source": [
        "import seaborn as sns\n",
        "sns.heatmap(X_data.corr(),vmin=-1,vmax=1,center=0,cmap='coolwarm')"
      ],
      "execution_count": null,
      "outputs": [
        {
          "output_type": "execute_result",
          "data": {
            "text/plain": [
              "<matplotlib.axes._subplots.AxesSubplot at 0x2bc2d5a5470>"
            ]
          },
          "metadata": {
            "tags": []
          },
          "execution_count": 36
        },
        {
          "output_type": "display_data",
          "data": {
            "image/png": "[encoded data removed]",
            "text/plain": [
              "<Figure size 432x288 with 2 Axes>"
            ]
          },
          "metadata": {
            "tags": []
          }
        }
      ]
    },
    {
      "cell_type": "code",
      "metadata": {
        "id": "Vr9W44Wxlimk"
      },
      "source": [
        "X_data2=X_data.drop(['Avg_Mthly_Spend_std','No_Of_Visits_std'],axis=1)"
      ],
      "execution_count": null,
      "outputs": []
    },
    {
      "cell_type": "code",
      "metadata": {
        "scrolled": true,
        "id": "0bxORpwrliml",
        "outputId": "21b0bf7f-d4d4-49da-d731-a376e25ee65b"
      },
      "source": [
        "import seaborn as sns\n",
        "sns.heatmap(X_data2.corr(),vmin=-1,vmax=1,center=0,cmap='coolwarm')"
      ],
      "execution_count": null,
      "outputs": [
        {
          "output_type": "execute_result",
          "data": {
            "text/plain": [
              "<matplotlib.axes._subplots.AxesSubplot at 0x2bc2d78ccf8>"
            ]
          },
          "metadata": {
            "tags": []
          },
          "execution_count": 41
        },
        {
          "output_type": "display_data",
          "data": {
            "image/png": "[encoded data removed]",
            "text/plain": [
              "<Figure size 432x288 with 2 Axes>"
            ]
          },
          "metadata": {
            "tags": []
          }
        }
      ]
    },
    {
      "cell_type": "markdown",
      "metadata": {
        "id": "7O0DOJWulimn"
      },
      "source": [
        "# K-Means Clustering"
      ]
    },
    {
      "cell_type": "markdown",
      "metadata": {
        "id": "4VzN1wwMlimo"
      },
      "source": [
        "## WCSS Plot or Elbow Curve for Optimal cluster identification"
      ]
    },
    {
      "cell_type": "code",
      "metadata": {
        "id": "bJEduyFJlimp"
      },
      "source": [
        "# WCSS stands for Within Cluster Sum of Squares"
      ],
      "execution_count": null,
      "outputs": []
    },
    {
      "cell_type": "code",
      "metadata": {
        "id": "xoiamcpulims",
        "outputId": "d0bf050a-d8d0-4911-af33-1ceedb66fe17"
      },
      "source": [
        "# find the appropriate cluster number\n",
        "plt.figure(figsize=(10, 8))\n",
        "from sklearn.cluster import KMeans\n",
        "wcss = []\n",
        "for i in range(1, 8):\n",
        "    kmeans = KMeans(n_clusters = i, init = 'k-means++', random_state = 42)\n",
        "    kmeans.fit(X_data)\n",
        "    wcss.append(kmeans.inertia_)\n",
        "plt.plot(range(1, 8), wcss)\n",
        "plt.title('The Elbow Method')\n",
        "plt.xlabel('Number of clusters')\n",
        "plt.ylabel('WCSS')\n",
        "plt.show()"
      ],
      "execution_count": null,
      "outputs": [
        {
          "output_type": "display_data",
          "data": {
            "image/png": "[encoded data removed]",
            "text/plain": [
              "<Figure size 720x576 with 1 Axes>"
            ]
          },
          "metadata": {
            "tags": []
          }
        }
      ]
    },
    {
      "cell_type": "markdown",
      "metadata": {
        "id": "pZ1YTN5nlimv"
      },
      "source": [
        "## K-Means Clustering & Cluster Information"
      ]
    },
    {
      "cell_type": "code",
      "metadata": {
        "id": "7zCjcf9qlimx"
      },
      "source": [
        "# Fitting K-Means to the dataset\n",
        "from sklearn.cluster import KMeans\n",
        "kmeans = KMeans(n_clusters = 2, init = 'k-means++', random_state = 42)\n",
        "y_kmeans = kmeans.fit_predict(X_data)\n",
        "X['Cluster_label_3_clus'] = pd.DataFrame(y_kmeans)"
      ],
      "execution_count": null,
      "outputs": []
    },
    {
      "cell_type": "code",
      "metadata": {
        "id": "otA8uGcllimy",
        "outputId": "45c94882-c234-49f3-8705-57d4c7cdeca4"
      },
      "source": [
        "X['Cluster_label_3_clus'].value_counts()"
      ],
      "execution_count": null,
      "outputs": [
        {
          "output_type": "execute_result",
          "data": {
            "text/plain": [
              "0    7\n",
              "1    3\n",
              "Name: Cluster_label_3_clus, dtype: int64"
            ]
          },
          "metadata": {
            "tags": []
          },
          "execution_count": 91
        }
      ]
    },
    {
      "cell_type": "code",
      "metadata": {
        "scrolled": false,
        "id": "Es9w04hYlimz",
        "outputId": "20d66624-d343-4b84-af04-4b803835814a"
      },
      "source": [
        "X.groupby('Cluster_label_3_clus').agg(['mean'])"
      ],
      "execution_count": null,
      "outputs": [
        {
          "output_type": "execute_result",
          "data": {
            "text/html": [
              "<div>\n",
              "<style scoped>\n",
              "    .dataframe tbody tr th:only-of-type {\n",
              "        vertical-align: middle;\n",
              "    }\n",
              "\n",
              "    .dataframe tbody tr th {\n",
              "        vertical-align: top;\n",
              "    }\n",
              "\n",
              "    .dataframe thead tr th {\n",
              "        text-align: left;\n",
              "    }\n",
              "\n",
              "    .dataframe thead tr:last-of-type th {\n",
              "        text-align: right;\n",
              "    }\n",
              "</style>\n",
              "<table border=\"1\" class=\"dataframe\">\n",
              "  <thead>\n",
              "    <tr>\n",
              "      <th></th>\n",
              "      <th>Avg_Mthly_Spend</th>\n",
              "      <th>No_Of_Visits</th>\n",
              "      <th>Apparel_Items</th>\n",
              "      <th>FnV_Items</th>\n",
              "      <th>Staples_Items</th>\n",
              "      <th>Cluster_label</th>\n",
              "      <th>Cluster_label_4_clus</th>\n",
              "    </tr>\n",
              "    <tr>\n",
              "      <th></th>\n",
              "      <th>mean</th>\n",
              "      <th>mean</th>\n",
              "      <th>mean</th>\n",
              "      <th>mean</th>\n",
              "      <th>mean</th>\n",
              "      <th>mean</th>\n",
              "      <th>mean</th>\n",
              "    </tr>\n",
              "    <tr>\n",
              "      <th>Cluster_label_3_clus</th>\n",
              "      <th></th>\n",
              "      <th></th>\n",
              "      <th></th>\n",
              "      <th></th>\n",
              "      <th></th>\n",
              "      <th></th>\n",
              "      <th></th>\n",
              "    </tr>\n",
              "  </thead>\n",
              "  <tbody>\n",
              "    <tr>\n",
              "      <th>0</th>\n",
              "      <td>3571.428571</td>\n",
              "      <td>3.714286</td>\n",
              "      <td>0</td>\n",
              "      <td>5.428571</td>\n",
              "      <td>4.571429</td>\n",
              "      <td>0.857143</td>\n",
              "      <td>0.857143</td>\n",
              "    </tr>\n",
              "    <tr>\n",
              "      <th>1</th>\n",
              "      <td>7833.333333</td>\n",
              "      <td>4.666667</td>\n",
              "      <td>1</td>\n",
              "      <td>1.666667</td>\n",
              "      <td>2.666667</td>\n",
              "      <td>1.000000</td>\n",
              "      <td>1.000000</td>\n",
              "    </tr>\n",
              "  </tbody>\n",
              "</table>\n",
              "</div>"
            ],
            "text/plain": [
              "                     Avg_Mthly_Spend No_Of_Visits Apparel_Items FnV_Items  \\\n",
              "                                mean         mean          mean      mean   \n",
              "Cluster_label_3_clus                                                        \n",
              "0                        3571.428571     3.714286             0  5.428571   \n",
              "1                        7833.333333     4.666667             1  1.666667   \n",
              "\n",
              "                     Staples_Items Cluster_label Cluster_label_4_clus  \n",
              "                              mean          mean                 mean  \n",
              "Cluster_label_3_clus                                                   \n",
              "0                         4.571429      0.857143             0.857143  \n",
              "1                         2.666667      1.000000             1.000000  "
            ]
          },
          "metadata": {
            "tags": []
          },
          "execution_count": 93
        }
      ]
    },
    {
      "cell_type": "markdown",
      "metadata": {
        "id": "BmvK_phVlim1"
      },
      "source": [
        "# Plotting Clusters with Swarmplot"
      ]
    },
    {
      "cell_type": "code",
      "metadata": {
        "scrolled": true,
        "id": "4UHSWJuDlim1",
        "outputId": "65bc6eb2-fe7e-42ed-9006-bc0da0fd02a1"
      },
      "source": [
        "import seaborn as sns\n",
        "ax=sns.swarmplot(x=\"Cluster_label_3_clus\",y=\"Avg_Mthly_Spend\",data=X)"
      ],
      "execution_count": null,
      "outputs": [
        {
          "output_type": "display_data",
          "data": {
            "image/png": "[encoded data removed]",
            "text/plain": [
              "<Figure size 432x288 with 1 Axes>"
            ]
          },
          "metadata": {
            "tags": []
          }
        }
      ]
    },
    {
      "cell_type": "code",
      "metadata": {
        "id": "wei32D3blim3",
        "outputId": "1aa4a953-687c-4bd5-809b-70fc87e0a76e"
      },
      "source": [
        "from sklearn.metrics import silhouette_score\n",
        "cluster_label=X['Cluster_label_3_clus']\n",
        "silhouette_avg = silhouette_score(X, cluster_label)\n",
        "silhouette_avg"
      ],
      "execution_count": null,
      "outputs": [
        {
          "output_type": "execute_result",
          "data": {
            "text/plain": [
              "0.31094218617878916"
            ]
          },
          "metadata": {
            "tags": []
          },
          "execution_count": 94
        }
      ]
    },
    {
      "cell_type": "code",
      "metadata": {
        "id": "2WVLGJwflim5",
        "outputId": "42e49459-9eb5-4167-ee58-bae188af0c2b"
      },
      "source": [
        "from sklearn.metrics import davies_bouldin_score\n",
        "davies_bouldin_score(X,cluster_label)"
      ],
      "execution_count": null,
      "outputs": [
        {
          "output_type": "execute_result",
          "data": {
            "text/plain": [
              "0.7603124130763018"
            ]
          },
          "metadata": {
            "tags": []
          },
          "execution_count": 95
        }
      ]
    },
    {
      "cell_type": "markdown",
      "metadata": {
        "id": "yj_2P9jDlim7"
      },
      "source": [
        "Business Scenario: Say there are 5 marketing offers that needs to be mapped to individual customers. The business wants you to \n",
        "    do a quick analysis to figure out which offer should be given to which customer.\n",
        "Potential Solution: Perform PCA and then build clusters on the Components or Build clusters on the given data after scaling. \n",
        "When you profile the clusters, the behaviors are likely to different across clusters. Based on the behavior, you can decide \n",
        "which offer should be given to which group."
      ]
    },
    {
      "cell_type": "markdown",
      "metadata": {
        "id": "o9AQtAtjlim9"
      },
      "source": [
        "Scenario 2: Suppose the business wants to understand, what are the drivers of decline of customer engagement\n",
        "Assuming that there is a metric to define customer engagement, you can use this metric to build customer clusters. \n",
        "Then build individual Random Forests/LR etc models for each cluster to see which variables are affecting that group.\n",
        "\n",
        "    "
      ]
    },
    {
      "cell_type": "code",
      "metadata": {
        "id": "gQvtp93ilim-"
      },
      "source": [
        "# Cluster 3 is largely composed of premium customers who would shop for all items (Premium Engaged Group)\n",
        "# Cluster 1 is composed of everyday shoppers (Staple Engaged)\n",
        "# Cluster 2 is composed of engaged customers from an FnV Perspective ()"
      ],
      "execution_count": null,
      "outputs": []
    }
  ]
}