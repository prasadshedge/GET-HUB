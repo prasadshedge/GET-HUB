{
 "cells": [
  {
   "cell_type": "code",
   "execution_count": null,
   "metadata": {},
   "outputs": [],
   "source": [
    "class Solution:\n",
    "    #parameter A is a list of intergers\n",
    "    #parameter k is the sum value\n",
    "    \n",
    "    def count_pairs(self, A, k):\n",
    "        \n",
    "        if len(A) == 0:\n",
    "            return\n",
    "        \n",
    "        count = 0  \n",
    "        \n",
    "        A.sort()  #sort the items of the list\n",
    "        \n",
    "        left = 0\n",
    "        right = len(A) - 1\n",
    "        \n",
    "        while (left <= right):\n",
    "            \n",
    "            tempsum = A[left] + A[right]\n",
    "            \n",
    "            if tempsum == k:\n",
    "                count += 1\n",
    "                if left != right :\n",
    "                    count += 1 #vice versa. (P,Q) pair, so (Q,P) one more time\n",
    "                left += 1\n",
    "            elif tempsum < k:\n",
    "                left += 1\n",
    "            else:\n",
    "                right -= 1\n",
    "                \n",
    "       \n",
    "            \n",
    "        return count\n",
    "    \n",
    "\n",
    "k = 6 \n",
    "a = [1, 8, -3, 0, 1, 3, -2, 4, 5] \n",
    "\n",
    "solution = Solution()\n",
    "print solution.count_pairs(a,k)\n"
   ]
  }
 ],
 "metadata": {
  "kernelspec": {
   "display_name": "Python 3",
   "language": "python",
   "name": "python3"
  }
 },
 "nbformat": 4,
 "nbformat_minor": 4
}
